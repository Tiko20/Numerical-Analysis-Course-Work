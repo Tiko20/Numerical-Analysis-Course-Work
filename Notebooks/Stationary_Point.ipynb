{
 "cells": [
  {
   "cell_type": "code",
   "execution_count": 2,
   "id": "918c873d",
   "metadata": {},
   "outputs": [],
   "source": [
    "import numpy\n",
    "import matplotlib.pyplot as plt"
   ]
  },
  {
   "cell_type": "code",
   "execution_count": 3,
   "id": "916333f8",
   "metadata": {},
   "outputs": [],
   "source": [
    "def f(x):\n",
    "    return numpy.cos(x)"
   ]
  },
  {
   "cell_type": "code",
   "execution_count": 4,
   "id": "6c96f6ca",
   "metadata": {},
   "outputs": [],
   "source": [
    "x = numpy.linspace(0, 1.5, num=1000)\n",
    "y = f(x)\n",
    "\n",
    "x_0 = 1\n",
    "points_x = [x_0]\n",
    "points_y = [0]\n",
    "\n",
    "temp = x_0\n",
    "for it in range(50):\n",
    "    points_x.append(temp)\n",
    "    points_y.append(f(temp))\n",
    "    temp = f(points_x[-1])\n",
    "    points_x.append(temp)\n",
    "    points_y.append(temp)    "
   ]
  },
  {
   "cell_type": "code",
   "execution_count": 5,
   "id": "d1bb3161",
   "metadata": {},
   "outputs": [
    {
     "name": "stdout",
     "output_type": "stream",
     "text": [
      "Using matplotlib backend: QtAgg\n"
     ]
    },
    {
     "name": "stderr",
     "output_type": "stream",
     "text": [
      "qt.qpa.plugin: Could not find the Qt platform plugin \"wayland\" in \"\"\n"
     ]
    }
   ],
   "source": [
    "%matplotlib\n",
    "plt.figure()\n",
    "plt.axis(\"equal\")\n",
    "plt.plot(x, y)\n",
    "plt.plot(x, x)\n",
    "plt.plot(points_x, points_y)\n",
    "plt.show()"
   ]
  }
 ],
 "metadata": {
  "kernelspec": {
   "display_name": "Python 3.10.6 64-bit",
   "language": "python",
   "name": "python3"
  },
  "language_info": {
   "codemirror_mode": {
    "name": "ipython",
    "version": 3
   },
   "file_extension": ".py",
   "mimetype": "text/x-python",
   "name": "python",
   "nbconvert_exporter": "python",
   "pygments_lexer": "ipython3",
   "version": "3.10.6"
  },
  "vscode": {
   "interpreter": {
    "hash": "916dbcbb3f70747c44a77c7bcd40155683ae19c65e1c03b4aa3499c5328201f1"
   }
  }
 },
 "nbformat": 4,
 "nbformat_minor": 5
}
